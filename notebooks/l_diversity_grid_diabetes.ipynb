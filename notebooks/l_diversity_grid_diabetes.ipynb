{
  "cells": [
    {
      "cell_type": "markdown",
      "metadata": {
        "collapsed": true,
        "jupyter": {
          "outputs_hidden": true
        },
        "pycharm": {
          "name": "#%% md\n"
        },
        "id": "7sGz43JsZq6Y"
      },
      "source": [
        "# Applying l-diversity to data minimization to a trained regression ML model"
      ]
    },
    {
      "cell_type": "markdown",
      "metadata": {
        "id": "akqnmG6xZq6Y"
      },
      "source": [
        "In this tutorial I will show how to use the l_diversity.py and privacy_grid.py modules from the new apt/security package.\n",
        "\n",
        "These are meant to be enhancements to the minimization.py framework explored by the file goldsteen2022data.pdf"
      ]
    },
    {
      "cell_type": "markdown",
      "source": [
        "## Setup"
      ],
      "metadata": {
        "id": "A1566RXrZx1_"
      }
    },
    {
      "cell_type": "code",
      "execution_count": 1,
      "metadata": {
        "colab": {
          "base_uri": "https://localhost:8080/"
        },
        "id": "QTMjbkmzZq6Z",
        "outputId": "a55915e7-0f02-4815-d04e-60e4277cdac4"
      },
      "outputs": [
        {
          "output_type": "stream",
          "name": "stdout",
          "text": [
            "Cloning into 'ai-privacy-toolkit'...\n",
            "remote: Enumerating objects: 1528, done.\u001b[K\n",
            "remote: Counting objects: 100% (595/595), done.\u001b[K\n",
            "remote: Compressing objects: 100% (225/225), done.\u001b[K\n",
            "remote: Total 1528 (delta 490), reused 375 (delta 370), pack-reused 933 (from 2)\u001b[K\n",
            "Receiving objects: 100% (1528/1528), 1.70 MiB | 6.53 MiB/s, done.\n",
            "Resolving deltas: 100% (1035/1035), done.\n"
          ]
        }
      ],
      "source": [
        "!git clone https://github.com/cmalvr/ai-privacy-toolkit.git"
      ]
    },
    {
      "cell_type": "code",
      "source": [
        "! python --version"
      ],
      "metadata": {
        "colab": {
          "base_uri": "https://localhost:8080/"
        },
        "id": "jAYh94j_0pEv",
        "outputId": "ed018f2b-435c-4592-c1f7-5c1f00a9b392"
      },
      "execution_count": 2,
      "outputs": [
        {
          "output_type": "stream",
          "name": "stdout",
          "text": [
            "Python 3.11.11\n"
          ]
        }
      ]
    },
    {
      "cell_type": "code",
      "source": [
        "%cd /content/ai-privacy-toolkit/\n",
        "import sys\n",
        "sys.path.append('/content/ai-privacy-toolkit/apt')\n",
        "print(sys.path)"
      ],
      "metadata": {
        "colab": {
          "base_uri": "https://localhost:8080/"
        },
        "id": "ndN2oJphZ14g",
        "outputId": "98a2283a-8609-485d-828d-5597e51669e8"
      },
      "execution_count": 3,
      "outputs": [
        {
          "output_type": "stream",
          "name": "stdout",
          "text": [
            "/content/ai-privacy-toolkit\n",
            "['/content', '/env/python', '/usr/lib/python311.zip', '/usr/lib/python3.11', '/usr/lib/python3.11/lib-dynload', '', '/usr/local/lib/python3.11/dist-packages', '/usr/lib/python3/dist-packages', '/usr/local/lib/python3.11/dist-packages/IPython/extensions', '/root/.ipython', '/content/ai-privacy-toolkit/apt']\n"
          ]
        }
      ]
    },
    {
      "cell_type": "code",
      "source": [
        "! pip install -r /content/ai-privacy-toolkit/requirements.txt;"
      ],
      "metadata": {
        "colab": {
          "base_uri": "https://localhost:8080/"
        },
        "id": "i8d-Bb18aB8w",
        "outputId": "a7d25d51-5466-4de6-9c20-980483357c9a"
      },
      "execution_count": 4,
      "outputs": [
        {
          "output_type": "stream",
          "name": "stdout",
          "text": [
            "Collecting numpy==1.24.2 (from -r /content/ai-privacy-toolkit/requirements.txt (line 1))\n",
            "  Downloading numpy-1.24.2-cp311-cp311-manylinux_2_17_x86_64.manylinux2014_x86_64.whl.metadata (5.6 kB)\n",
            "Collecting pandas==1.1.05 (from -r /content/ai-privacy-toolkit/requirements.txt (line 2))\n",
            "  Downloading pandas-1.1.5.tar.gz (5.2 MB)\n",
            "\u001b[2K     \u001b[90m━━━━━━━━━━━━━━━━━━━━━━━━━━━━━━━━━━━━━━━━\u001b[0m \u001b[32m5.2/5.2 MB\u001b[0m \u001b[31m14.9 MB/s\u001b[0m eta \u001b[36m0:00:00\u001b[0m\n",
            "\u001b[?25h  Installing build dependencies ... \u001b[?25l\u001b[?25hdone\n",
            "  Getting requirements to build wheel ... \u001b[?25l\u001b[?25hdone\n",
            "  Preparing metadata (pyproject.toml) ... \u001b[?25l\u001b[?25hdone\n",
            "Collecting scipy==1.10.1 (from -r /content/ai-privacy-toolkit/requirements.txt (line 3))\n",
            "  Downloading scipy-1.10.1-cp311-cp311-manylinux_2_17_x86_64.manylinux2014_x86_64.whl.metadata (58 kB)\n",
            "\u001b[2K     \u001b[90m━━━━━━━━━━━━━━━━━━━━━━━━━━━━━━━━━━━━━━━━\u001b[0m \u001b[32m58.9/58.9 kB\u001b[0m \u001b[31m5.2 MB/s\u001b[0m eta \u001b[36m0:00:00\u001b[0m\n",
            "\u001b[?25hCollecting scikit-learn<=1.1.3,>=0.22.2 (from -r /content/ai-privacy-toolkit/requirements.txt (line 4))\n",
            "  Downloading scikit_learn-1.1.3-cp311-cp311-manylinux_2_17_x86_64.manylinux2014_x86_64.whl.metadata (10 kB)\n",
            "Requirement already satisfied: torch>=1.8.0 in /usr/local/lib/python3.11/dist-packages (from -r /content/ai-privacy-toolkit/requirements.txt (line 5)) (2.5.1+cu124)\n",
            "Requirement already satisfied: tqdm>=4.64.1 in /usr/local/lib/python3.11/dist-packages (from -r /content/ai-privacy-toolkit/requirements.txt (line 6)) (4.67.1)\n",
            "Requirement already satisfied: matplotlib>=3.7.0 in /usr/local/lib/python3.11/dist-packages (from -r /content/ai-privacy-toolkit/requirements.txt (line 7)) (3.10.0)\n",
            "Collecting pytest==5.4.2 (from -r /content/ai-privacy-toolkit/requirements.txt (line 10))\n",
            "  Downloading pytest-5.4.2-py3-none-any.whl.metadata (7.3 kB)\n",
            "Collecting xgboost==1.7.2 (from -r /content/ai-privacy-toolkit/requirements.txt (line 11))\n",
            "  Downloading xgboost-1.7.2-py3-none-manylinux2014_x86_64.whl.metadata (1.9 kB)\n",
            "Collecting Pillow==9.3.0 (from -r /content/ai-privacy-toolkit/requirements.txt (line 12))\n",
            "  Downloading Pillow-9.3.0-cp311-cp311-manylinux_2_28_x86_64.whl.metadata (9.2 kB)\n",
            "Collecting sortedcontainers==2.4.0 (from -r /content/ai-privacy-toolkit/requirements.txt (line 13))\n",
            "  Downloading sortedcontainers-2.4.0-py2.py3-none-any.whl.metadata (10 kB)\n",
            "Requirement already satisfied: notebook in /usr/local/lib/python3.11/dist-packages (from -r /content/ai-privacy-toolkit/requirements.txt (line 16)) (6.5.5)\n",
            "Collecting jupyter (from -r /content/ai-privacy-toolkit/requirements.txt (line 17))\n",
            "  Downloading jupyter-1.1.1-py2.py3-none-any.whl.metadata (2.0 kB)\n",
            "Requirement already satisfied: ipywidgets in /usr/local/lib/python3.11/dist-packages (from -r /content/ai-privacy-toolkit/requirements.txt (line 18)) (7.7.1)\n",
            "Collecting sphinx_rtd_theme (from -r /content/ai-privacy-toolkit/requirements.txt (line 21))\n",
            "  Downloading sphinx_rtd_theme-3.0.2-py2.py3-none-any.whl.metadata (4.4 kB)\n",
            "Requirement already satisfied: python-dateutil>=2.7.3 in /usr/local/lib/python3.11/dist-packages (from pandas==1.1.05->-r /content/ai-privacy-toolkit/requirements.txt (line 2)) (2.8.2)\n",
            "Requirement already satisfied: pytz>=2017.2 in /usr/local/lib/python3.11/dist-packages (from pandas==1.1.05->-r /content/ai-privacy-toolkit/requirements.txt (line 2)) (2025.1)\n",
            "Collecting py>=1.5.0 (from pytest==5.4.2->-r /content/ai-privacy-toolkit/requirements.txt (line 10))\n",
            "  Downloading py-1.11.0-py2.py3-none-any.whl.metadata (2.8 kB)\n",
            "Requirement already satisfied: packaging in /usr/local/lib/python3.11/dist-packages (from pytest==5.4.2->-r /content/ai-privacy-toolkit/requirements.txt (line 10)) (24.2)\n",
            "Requirement already satisfied: attrs>=17.4.0 in /usr/local/lib/python3.11/dist-packages (from pytest==5.4.2->-r /content/ai-privacy-toolkit/requirements.txt (line 10)) (25.1.0)\n",
            "Requirement already satisfied: more-itertools>=4.0.0 in /usr/local/lib/python3.11/dist-packages (from pytest==5.4.2->-r /content/ai-privacy-toolkit/requirements.txt (line 10)) (10.6.0)\n",
            "Collecting pluggy<1.0,>=0.12 (from pytest==5.4.2->-r /content/ai-privacy-toolkit/requirements.txt (line 10))\n",
            "  Downloading pluggy-0.13.1-py2.py3-none-any.whl.metadata (15 kB)\n",
            "Requirement already satisfied: wcwidth in /usr/local/lib/python3.11/dist-packages (from pytest==5.4.2->-r /content/ai-privacy-toolkit/requirements.txt (line 10)) (0.2.13)\n",
            "Requirement already satisfied: joblib>=1.0.0 in /usr/local/lib/python3.11/dist-packages (from scikit-learn<=1.1.3,>=0.22.2->-r /content/ai-privacy-toolkit/requirements.txt (line 4)) (1.4.2)\n",
            "Requirement already satisfied: threadpoolctl>=2.0.0 in /usr/local/lib/python3.11/dist-packages (from scikit-learn<=1.1.3,>=0.22.2->-r /content/ai-privacy-toolkit/requirements.txt (line 4)) (3.5.0)\n",
            "Requirement already satisfied: filelock in /usr/local/lib/python3.11/dist-packages (from torch>=1.8.0->-r /content/ai-privacy-toolkit/requirements.txt (line 5)) (3.17.0)\n",
            "Requirement already satisfied: typing-extensions>=4.8.0 in /usr/local/lib/python3.11/dist-packages (from torch>=1.8.0->-r /content/ai-privacy-toolkit/requirements.txt (line 5)) (4.12.2)\n",
            "Requirement already satisfied: networkx in /usr/local/lib/python3.11/dist-packages (from torch>=1.8.0->-r /content/ai-privacy-toolkit/requirements.txt (line 5)) (3.4.2)\n",
            "Requirement already satisfied: jinja2 in /usr/local/lib/python3.11/dist-packages (from torch>=1.8.0->-r /content/ai-privacy-toolkit/requirements.txt (line 5)) (3.1.5)\n",
            "Requirement already satisfied: fsspec in /usr/local/lib/python3.11/dist-packages (from torch>=1.8.0->-r /content/ai-privacy-toolkit/requirements.txt (line 5)) (2024.10.0)\n",
            "Collecting nvidia-cuda-nvrtc-cu12==12.4.127 (from torch>=1.8.0->-r /content/ai-privacy-toolkit/requirements.txt (line 5))\n",
            "  Downloading nvidia_cuda_nvrtc_cu12-12.4.127-py3-none-manylinux2014_x86_64.whl.metadata (1.5 kB)\n",
            "Collecting nvidia-cuda-runtime-cu12==12.4.127 (from torch>=1.8.0->-r /content/ai-privacy-toolkit/requirements.txt (line 5))\n",
            "  Downloading nvidia_cuda_runtime_cu12-12.4.127-py3-none-manylinux2014_x86_64.whl.metadata (1.5 kB)\n",
            "Collecting nvidia-cuda-cupti-cu12==12.4.127 (from torch>=1.8.0->-r /content/ai-privacy-toolkit/requirements.txt (line 5))\n",
            "  Downloading nvidia_cuda_cupti_cu12-12.4.127-py3-none-manylinux2014_x86_64.whl.metadata (1.6 kB)\n",
            "Collecting nvidia-cudnn-cu12==9.1.0.70 (from torch>=1.8.0->-r /content/ai-privacy-toolkit/requirements.txt (line 5))\n",
            "  Downloading nvidia_cudnn_cu12-9.1.0.70-py3-none-manylinux2014_x86_64.whl.metadata (1.6 kB)\n",
            "Collecting nvidia-cublas-cu12==12.4.5.8 (from torch>=1.8.0->-r /content/ai-privacy-toolkit/requirements.txt (line 5))\n",
            "  Downloading nvidia_cublas_cu12-12.4.5.8-py3-none-manylinux2014_x86_64.whl.metadata (1.5 kB)\n",
            "Collecting nvidia-cufft-cu12==11.2.1.3 (from torch>=1.8.0->-r /content/ai-privacy-toolkit/requirements.txt (line 5))\n",
            "  Downloading nvidia_cufft_cu12-11.2.1.3-py3-none-manylinux2014_x86_64.whl.metadata (1.5 kB)\n",
            "Collecting nvidia-curand-cu12==10.3.5.147 (from torch>=1.8.0->-r /content/ai-privacy-toolkit/requirements.txt (line 5))\n",
            "  Downloading nvidia_curand_cu12-10.3.5.147-py3-none-manylinux2014_x86_64.whl.metadata (1.5 kB)\n",
            "Collecting nvidia-cusolver-cu12==11.6.1.9 (from torch>=1.8.0->-r /content/ai-privacy-toolkit/requirements.txt (line 5))\n",
            "  Downloading nvidia_cusolver_cu12-11.6.1.9-py3-none-manylinux2014_x86_64.whl.metadata (1.6 kB)\n",
            "Collecting nvidia-cusparse-cu12==12.3.1.170 (from torch>=1.8.0->-r /content/ai-privacy-toolkit/requirements.txt (line 5))\n",
            "  Downloading nvidia_cusparse_cu12-12.3.1.170-py3-none-manylinux2014_x86_64.whl.metadata (1.6 kB)\n",
            "Requirement already satisfied: nvidia-nccl-cu12==2.21.5 in /usr/local/lib/python3.11/dist-packages (from torch>=1.8.0->-r /content/ai-privacy-toolkit/requirements.txt (line 5)) (2.21.5)\n",
            "Requirement already satisfied: nvidia-nvtx-cu12==12.4.127 in /usr/local/lib/python3.11/dist-packages (from torch>=1.8.0->-r /content/ai-privacy-toolkit/requirements.txt (line 5)) (12.4.127)\n",
            "Collecting nvidia-nvjitlink-cu12==12.4.127 (from torch>=1.8.0->-r /content/ai-privacy-toolkit/requirements.txt (line 5))\n",
            "  Downloading nvidia_nvjitlink_cu12-12.4.127-py3-none-manylinux2014_x86_64.whl.metadata (1.5 kB)\n",
            "Requirement already satisfied: triton==3.1.0 in /usr/local/lib/python3.11/dist-packages (from torch>=1.8.0->-r /content/ai-privacy-toolkit/requirements.txt (line 5)) (3.1.0)\n",
            "Requirement already satisfied: sympy==1.13.1 in /usr/local/lib/python3.11/dist-packages (from torch>=1.8.0->-r /content/ai-privacy-toolkit/requirements.txt (line 5)) (1.13.1)\n",
            "Requirement already satisfied: mpmath<1.4,>=1.1.0 in /usr/local/lib/python3.11/dist-packages (from sympy==1.13.1->torch>=1.8.0->-r /content/ai-privacy-toolkit/requirements.txt (line 5)) (1.3.0)\n",
            "Requirement already satisfied: contourpy>=1.0.1 in /usr/local/lib/python3.11/dist-packages (from matplotlib>=3.7.0->-r /content/ai-privacy-toolkit/requirements.txt (line 7)) (1.3.1)\n",
            "Requirement already satisfied: cycler>=0.10 in /usr/local/lib/python3.11/dist-packages (from matplotlib>=3.7.0->-r /content/ai-privacy-toolkit/requirements.txt (line 7)) (0.12.1)\n",
            "Requirement already satisfied: fonttools>=4.22.0 in /usr/local/lib/python3.11/dist-packages (from matplotlib>=3.7.0->-r /content/ai-privacy-toolkit/requirements.txt (line 7)) (4.56.0)\n",
            "Requirement already satisfied: kiwisolver>=1.3.1 in /usr/local/lib/python3.11/dist-packages (from matplotlib>=3.7.0->-r /content/ai-privacy-toolkit/requirements.txt (line 7)) (1.4.8)\n",
            "Requirement already satisfied: pyparsing>=2.3.1 in /usr/local/lib/python3.11/dist-packages (from matplotlib>=3.7.0->-r /content/ai-privacy-toolkit/requirements.txt (line 7)) (3.2.1)\n",
            "Requirement already satisfied: tornado>=6.1 in /usr/local/lib/python3.11/dist-packages (from notebook->-r /content/ai-privacy-toolkit/requirements.txt (line 16)) (6.4.2)\n",
            "Requirement already satisfied: pyzmq<25,>=17 in /usr/local/lib/python3.11/dist-packages (from notebook->-r /content/ai-privacy-toolkit/requirements.txt (line 16)) (24.0.1)\n",
            "Requirement already satisfied: argon2-cffi in /usr/local/lib/python3.11/dist-packages (from notebook->-r /content/ai-privacy-toolkit/requirements.txt (line 16)) (23.1.0)\n",
            "Requirement already satisfied: traitlets>=4.2.1 in /usr/local/lib/python3.11/dist-packages (from notebook->-r /content/ai-privacy-toolkit/requirements.txt (line 16)) (5.7.1)\n",
            "Requirement already satisfied: jupyter-core>=4.6.1 in /usr/local/lib/python3.11/dist-packages (from notebook->-r /content/ai-privacy-toolkit/requirements.txt (line 16)) (5.7.2)\n",
            "Requirement already satisfied: jupyter-client<8,>=5.3.4 in /usr/local/lib/python3.11/dist-packages (from notebook->-r /content/ai-privacy-toolkit/requirements.txt (line 16)) (6.1.12)\n",
            "Requirement already satisfied: ipython-genutils in /usr/local/lib/python3.11/dist-packages (from notebook->-r /content/ai-privacy-toolkit/requirements.txt (line 16)) (0.2.0)\n",
            "Requirement already satisfied: nbformat in /usr/local/lib/python3.11/dist-packages (from notebook->-r /content/ai-privacy-toolkit/requirements.txt (line 16)) (5.10.4)\n",
            "Requirement already satisfied: nbconvert>=5 in /usr/local/lib/python3.11/dist-packages (from notebook->-r /content/ai-privacy-toolkit/requirements.txt (line 16)) (7.16.6)\n",
            "Requirement already satisfied: nest-asyncio>=1.5 in /usr/local/lib/python3.11/dist-packages (from notebook->-r /content/ai-privacy-toolkit/requirements.txt (line 16)) (1.6.0)\n",
            "Requirement already satisfied: ipykernel in /usr/local/lib/python3.11/dist-packages (from notebook->-r /content/ai-privacy-toolkit/requirements.txt (line 16)) (6.17.1)\n",
            "Requirement already satisfied: Send2Trash>=1.8.0 in /usr/local/lib/python3.11/dist-packages (from notebook->-r /content/ai-privacy-toolkit/requirements.txt (line 16)) (1.8.3)\n",
            "Requirement already satisfied: terminado>=0.8.3 in /usr/local/lib/python3.11/dist-packages (from notebook->-r /content/ai-privacy-toolkit/requirements.txt (line 16)) (0.18.1)\n",
            "Requirement already satisfied: prometheus-client in /usr/local/lib/python3.11/dist-packages (from notebook->-r /content/ai-privacy-toolkit/requirements.txt (line 16)) (0.21.1)\n",
            "Requirement already satisfied: nbclassic>=0.4.7 in /usr/local/lib/python3.11/dist-packages (from notebook->-r /content/ai-privacy-toolkit/requirements.txt (line 16)) (1.2.0)\n",
            "Requirement already satisfied: jupyter-console in /usr/local/lib/python3.11/dist-packages (from jupyter->-r /content/ai-privacy-toolkit/requirements.txt (line 17)) (6.1.0)\n",
            "Collecting jupyterlab (from jupyter->-r /content/ai-privacy-toolkit/requirements.txt (line 17))\n",
            "  Downloading jupyterlab-4.3.5-py3-none-any.whl.metadata (16 kB)\n",
            "Requirement already satisfied: widgetsnbextension~=3.6.0 in /usr/local/lib/python3.11/dist-packages (from ipywidgets->-r /content/ai-privacy-toolkit/requirements.txt (line 18)) (3.6.10)\n",
            "Requirement already satisfied: ipython>=4.0.0 in /usr/local/lib/python3.11/dist-packages (from ipywidgets->-r /content/ai-privacy-toolkit/requirements.txt (line 18)) (7.34.0)\n",
            "Requirement already satisfied: jupyterlab-widgets>=1.0.0 in /usr/local/lib/python3.11/dist-packages (from ipywidgets->-r /content/ai-privacy-toolkit/requirements.txt (line 18)) (3.0.13)\n",
            "Requirement already satisfied: sphinx<9,>=6 in /usr/local/lib/python3.11/dist-packages (from sphinx_rtd_theme->-r /content/ai-privacy-toolkit/requirements.txt (line 21)) (8.1.3)\n",
            "Requirement already satisfied: docutils<0.22,>0.18 in /usr/local/lib/python3.11/dist-packages (from sphinx_rtd_theme->-r /content/ai-privacy-toolkit/requirements.txt (line 21)) (0.21.2)\n",
            "Collecting sphinxcontrib-jquery<5,>=4 (from sphinx_rtd_theme->-r /content/ai-privacy-toolkit/requirements.txt (line 21))\n",
            "  Downloading sphinxcontrib_jquery-4.1-py2.py3-none-any.whl.metadata (2.6 kB)\n",
            "Requirement already satisfied: debugpy>=1.0 in /usr/local/lib/python3.11/dist-packages (from ipykernel->notebook->-r /content/ai-privacy-toolkit/requirements.txt (line 16)) (1.8.0)\n",
            "Requirement already satisfied: matplotlib-inline>=0.1 in /usr/local/lib/python3.11/dist-packages (from ipykernel->notebook->-r /content/ai-privacy-toolkit/requirements.txt (line 16)) (0.1.7)\n",
            "Requirement already satisfied: psutil in /usr/local/lib/python3.11/dist-packages (from ipykernel->notebook->-r /content/ai-privacy-toolkit/requirements.txt (line 16)) (5.9.5)\n",
            "Requirement already satisfied: setuptools>=18.5 in /usr/local/lib/python3.11/dist-packages (from ipython>=4.0.0->ipywidgets->-r /content/ai-privacy-toolkit/requirements.txt (line 18)) (75.1.0)\n",
            "Collecting jedi>=0.16 (from ipython>=4.0.0->ipywidgets->-r /content/ai-privacy-toolkit/requirements.txt (line 18))\n",
            "  Downloading jedi-0.19.2-py2.py3-none-any.whl.metadata (22 kB)\n",
            "Requirement already satisfied: decorator in /usr/local/lib/python3.11/dist-packages (from ipython>=4.0.0->ipywidgets->-r /content/ai-privacy-toolkit/requirements.txt (line 18)) (4.4.2)\n",
            "Requirement already satisfied: pickleshare in /usr/local/lib/python3.11/dist-packages (from ipython>=4.0.0->ipywidgets->-r /content/ai-privacy-toolkit/requirements.txt (line 18)) (0.7.5)\n",
            "Requirement already satisfied: prompt-toolkit!=3.0.0,!=3.0.1,<3.1.0,>=2.0.0 in /usr/local/lib/python3.11/dist-packages (from ipython>=4.0.0->ipywidgets->-r /content/ai-privacy-toolkit/requirements.txt (line 18)) (3.0.50)\n",
            "Requirement already satisfied: pygments in /usr/local/lib/python3.11/dist-packages (from ipython>=4.0.0->ipywidgets->-r /content/ai-privacy-toolkit/requirements.txt (line 18)) (2.18.0)\n",
            "Requirement already satisfied: backcall in /usr/local/lib/python3.11/dist-packages (from ipython>=4.0.0->ipywidgets->-r /content/ai-privacy-toolkit/requirements.txt (line 18)) (0.2.0)\n",
            "Requirement already satisfied: pexpect>4.3 in /usr/local/lib/python3.11/dist-packages (from ipython>=4.0.0->ipywidgets->-r /content/ai-privacy-toolkit/requirements.txt (line 18)) (4.9.0)\n",
            "Requirement already satisfied: platformdirs>=2.5 in /usr/local/lib/python3.11/dist-packages (from jupyter-core>=4.6.1->notebook->-r /content/ai-privacy-toolkit/requirements.txt (line 16)) (4.3.6)\n",
            "Requirement already satisfied: notebook-shim>=0.2.3 in /usr/local/lib/python3.11/dist-packages (from nbclassic>=0.4.7->notebook->-r /content/ai-privacy-toolkit/requirements.txt (line 16)) (0.2.4)\n",
            "Requirement already satisfied: beautifulsoup4 in /usr/local/lib/python3.11/dist-packages (from nbconvert>=5->notebook->-r /content/ai-privacy-toolkit/requirements.txt (line 16)) (4.13.3)\n",
            "Requirement already satisfied: bleach!=5.0.0 in /usr/local/lib/python3.11/dist-packages (from bleach[css]!=5.0.0->nbconvert>=5->notebook->-r /content/ai-privacy-toolkit/requirements.txt (line 16)) (6.2.0)\n",
            "Requirement already satisfied: defusedxml in /usr/local/lib/python3.11/dist-packages (from nbconvert>=5->notebook->-r /content/ai-privacy-toolkit/requirements.txt (line 16)) (0.7.1)\n",
            "Requirement already satisfied: jupyterlab-pygments in /usr/local/lib/python3.11/dist-packages (from nbconvert>=5->notebook->-r /content/ai-privacy-toolkit/requirements.txt (line 16)) (0.3.0)\n",
            "Requirement already satisfied: markupsafe>=2.0 in /usr/local/lib/python3.11/dist-packages (from nbconvert>=5->notebook->-r /content/ai-privacy-toolkit/requirements.txt (line 16)) (3.0.2)\n",
            "Requirement already satisfied: mistune<4,>=2.0.3 in /usr/local/lib/python3.11/dist-packages (from nbconvert>=5->notebook->-r /content/ai-privacy-toolkit/requirements.txt (line 16)) (3.1.2)\n",
            "Requirement already satisfied: nbclient>=0.5.0 in /usr/local/lib/python3.11/dist-packages (from nbconvert>=5->notebook->-r /content/ai-privacy-toolkit/requirements.txt (line 16)) (0.10.2)\n",
            "Requirement already satisfied: pandocfilters>=1.4.1 in /usr/local/lib/python3.11/dist-packages (from nbconvert>=5->notebook->-r /content/ai-privacy-toolkit/requirements.txt (line 16)) (1.5.1)\n",
            "Requirement already satisfied: fastjsonschema>=2.15 in /usr/local/lib/python3.11/dist-packages (from nbformat->notebook->-r /content/ai-privacy-toolkit/requirements.txt (line 16)) (2.21.1)\n",
            "Requirement already satisfied: jsonschema>=2.6 in /usr/local/lib/python3.11/dist-packages (from nbformat->notebook->-r /content/ai-privacy-toolkit/requirements.txt (line 16)) (4.23.0)\n",
            "Requirement already satisfied: six>=1.5 in /usr/local/lib/python3.11/dist-packages (from python-dateutil>=2.7.3->pandas==1.1.05->-r /content/ai-privacy-toolkit/requirements.txt (line 2)) (1.17.0)\n",
            "Requirement already satisfied: sphinxcontrib-applehelp>=1.0.7 in /usr/local/lib/python3.11/dist-packages (from sphinx<9,>=6->sphinx_rtd_theme->-r /content/ai-privacy-toolkit/requirements.txt (line 21)) (2.0.0)\n",
            "Requirement already satisfied: sphinxcontrib-devhelp>=1.0.6 in /usr/local/lib/python3.11/dist-packages (from sphinx<9,>=6->sphinx_rtd_theme->-r /content/ai-privacy-toolkit/requirements.txt (line 21)) (2.0.0)\n",
            "Requirement already satisfied: sphinxcontrib-htmlhelp>=2.0.6 in /usr/local/lib/python3.11/dist-packages (from sphinx<9,>=6->sphinx_rtd_theme->-r /content/ai-privacy-toolkit/requirements.txt (line 21)) (2.1.0)\n",
            "Requirement already satisfied: sphinxcontrib-jsmath>=1.0.1 in /usr/local/lib/python3.11/dist-packages (from sphinx<9,>=6->sphinx_rtd_theme->-r /content/ai-privacy-toolkit/requirements.txt (line 21)) (1.0.1)\n",
            "Requirement already satisfied: sphinxcontrib-qthelp>=1.0.6 in /usr/local/lib/python3.11/dist-packages (from sphinx<9,>=6->sphinx_rtd_theme->-r /content/ai-privacy-toolkit/requirements.txt (line 21)) (2.0.0)\n",
            "Requirement already satisfied: sphinxcontrib-serializinghtml>=1.1.9 in /usr/local/lib/python3.11/dist-packages (from sphinx<9,>=6->sphinx_rtd_theme->-r /content/ai-privacy-toolkit/requirements.txt (line 21)) (2.0.0)\n",
            "Requirement already satisfied: snowballstemmer>=2.2 in /usr/local/lib/python3.11/dist-packages (from sphinx<9,>=6->sphinx_rtd_theme->-r /content/ai-privacy-toolkit/requirements.txt (line 21)) (2.2.0)\n",
            "Requirement already satisfied: babel>=2.13 in /usr/local/lib/python3.11/dist-packages (from sphinx<9,>=6->sphinx_rtd_theme->-r /content/ai-privacy-toolkit/requirements.txt (line 21)) (2.17.0)\n",
            "Requirement already satisfied: alabaster>=0.7.14 in /usr/local/lib/python3.11/dist-packages (from sphinx<9,>=6->sphinx_rtd_theme->-r /content/ai-privacy-toolkit/requirements.txt (line 21)) (1.0.0)\n",
            "Requirement already satisfied: imagesize>=1.3 in /usr/local/lib/python3.11/dist-packages (from sphinx<9,>=6->sphinx_rtd_theme->-r /content/ai-privacy-toolkit/requirements.txt (line 21)) (1.4.1)\n",
            "Requirement already satisfied: requests>=2.30.0 in /usr/local/lib/python3.11/dist-packages (from sphinx<9,>=6->sphinx_rtd_theme->-r /content/ai-privacy-toolkit/requirements.txt (line 21)) (2.32.3)\n",
            "Requirement already satisfied: ptyprocess in /usr/local/lib/python3.11/dist-packages (from terminado>=0.8.3->notebook->-r /content/ai-privacy-toolkit/requirements.txt (line 16)) (0.7.0)\n",
            "Requirement already satisfied: argon2-cffi-bindings in /usr/local/lib/python3.11/dist-packages (from argon2-cffi->notebook->-r /content/ai-privacy-toolkit/requirements.txt (line 16)) (21.2.0)\n",
            "Collecting async-lru>=1.0.0 (from jupyterlab->jupyter->-r /content/ai-privacy-toolkit/requirements.txt (line 17))\n",
            "  Downloading async_lru-2.0.4-py3-none-any.whl.metadata (4.5 kB)\n",
            "Requirement already satisfied: httpx>=0.25.0 in /usr/local/lib/python3.11/dist-packages (from jupyterlab->jupyter->-r /content/ai-privacy-toolkit/requirements.txt (line 17)) (0.28.1)\n",
            "Collecting jupyter-lsp>=2.0.0 (from jupyterlab->jupyter->-r /content/ai-privacy-toolkit/requirements.txt (line 17))\n",
            "  Downloading jupyter_lsp-2.2.5-py3-none-any.whl.metadata (1.8 kB)\n",
            "Collecting jupyter-server<3,>=2.4.0 (from jupyterlab->jupyter->-r /content/ai-privacy-toolkit/requirements.txt (line 17))\n",
            "  Downloading jupyter_server-2.15.0-py3-none-any.whl.metadata (8.4 kB)\n",
            "Collecting jupyterlab-server<3,>=2.27.1 (from jupyterlab->jupyter->-r /content/ai-privacy-toolkit/requirements.txt (line 17))\n",
            "  Downloading jupyterlab_server-2.27.3-py3-none-any.whl.metadata (5.9 kB)\n",
            "Requirement already satisfied: webencodings in /usr/local/lib/python3.11/dist-packages (from bleach!=5.0.0->bleach[css]!=5.0.0->nbconvert>=5->notebook->-r /content/ai-privacy-toolkit/requirements.txt (line 16)) (0.5.1)\n",
            "Requirement already satisfied: tinycss2<1.5,>=1.1.0 in /usr/local/lib/python3.11/dist-packages (from bleach[css]!=5.0.0->nbconvert>=5->notebook->-r /content/ai-privacy-toolkit/requirements.txt (line 16)) (1.4.0)\n",
            "Requirement already satisfied: anyio in /usr/local/lib/python3.11/dist-packages (from httpx>=0.25.0->jupyterlab->jupyter->-r /content/ai-privacy-toolkit/requirements.txt (line 17)) (3.7.1)\n",
            "Requirement already satisfied: certifi in /usr/local/lib/python3.11/dist-packages (from httpx>=0.25.0->jupyterlab->jupyter->-r /content/ai-privacy-toolkit/requirements.txt (line 17)) (2025.1.31)\n",
            "Requirement already satisfied: httpcore==1.* in /usr/local/lib/python3.11/dist-packages (from httpx>=0.25.0->jupyterlab->jupyter->-r /content/ai-privacy-toolkit/requirements.txt (line 17)) (1.0.7)\n",
            "Requirement already satisfied: idna in /usr/local/lib/python3.11/dist-packages (from httpx>=0.25.0->jupyterlab->jupyter->-r /content/ai-privacy-toolkit/requirements.txt (line 17)) (3.10)\n",
            "Requirement already satisfied: h11<0.15,>=0.13 in /usr/local/lib/python3.11/dist-packages (from httpcore==1.*->httpx>=0.25.0->jupyterlab->jupyter->-r /content/ai-privacy-toolkit/requirements.txt (line 17)) (0.14.0)\n",
            "Requirement already satisfied: parso<0.9.0,>=0.8.4 in /usr/local/lib/python3.11/dist-packages (from jedi>=0.16->ipython>=4.0.0->ipywidgets->-r /content/ai-privacy-toolkit/requirements.txt (line 18)) (0.8.4)\n",
            "Requirement already satisfied: jsonschema-specifications>=2023.03.6 in /usr/local/lib/python3.11/dist-packages (from jsonschema>=2.6->nbformat->notebook->-r /content/ai-privacy-toolkit/requirements.txt (line 16)) (2024.10.1)\n",
            "Requirement already satisfied: referencing>=0.28.4 in /usr/local/lib/python3.11/dist-packages (from jsonschema>=2.6->nbformat->notebook->-r /content/ai-privacy-toolkit/requirements.txt (line 16)) (0.36.2)\n",
            "Requirement already satisfied: rpds-py>=0.7.1 in /usr/local/lib/python3.11/dist-packages (from jsonschema>=2.6->nbformat->notebook->-r /content/ai-privacy-toolkit/requirements.txt (line 16)) (0.22.3)\n",
            "Collecting jupyter-client<8,>=5.3.4 (from notebook->-r /content/ai-privacy-toolkit/requirements.txt (line 16))\n",
            "  Downloading jupyter_client-7.4.9-py3-none-any.whl.metadata (8.5 kB)\n",
            "Collecting jupyter-events>=0.11.0 (from jupyter-server<3,>=2.4.0->jupyterlab->jupyter->-r /content/ai-privacy-toolkit/requirements.txt (line 17))\n",
            "  Downloading jupyter_events-0.12.0-py3-none-any.whl.metadata (5.8 kB)\n",
            "Collecting jupyter-server-terminals>=0.4.4 (from jupyter-server<3,>=2.4.0->jupyterlab->jupyter->-r /content/ai-privacy-toolkit/requirements.txt (line 17))\n",
            "  Downloading jupyter_server_terminals-0.5.3-py3-none-any.whl.metadata (5.6 kB)\n",
            "Collecting overrides>=5.0 (from jupyter-server<3,>=2.4.0->jupyterlab->jupyter->-r /content/ai-privacy-toolkit/requirements.txt (line 17))\n",
            "  Downloading overrides-7.7.0-py3-none-any.whl.metadata (5.8 kB)\n",
            "Requirement already satisfied: websocket-client>=1.7 in /usr/local/lib/python3.11/dist-packages (from jupyter-server<3,>=2.4.0->jupyterlab->jupyter->-r /content/ai-privacy-toolkit/requirements.txt (line 17)) (1.8.0)\n",
            "Requirement already satisfied: entrypoints in /usr/local/lib/python3.11/dist-packages (from jupyter-client<8,>=5.3.4->notebook->-r /content/ai-privacy-toolkit/requirements.txt (line 16)) (0.4)\n",
            "Collecting json5>=0.9.0 (from jupyterlab-server<3,>=2.27.1->jupyterlab->jupyter->-r /content/ai-privacy-toolkit/requirements.txt (line 17))\n",
            "  Downloading json5-0.10.0-py3-none-any.whl.metadata (34 kB)\n",
            "Requirement already satisfied: charset-normalizer<4,>=2 in /usr/local/lib/python3.11/dist-packages (from requests>=2.30.0->sphinx<9,>=6->sphinx_rtd_theme->-r /content/ai-privacy-toolkit/requirements.txt (line 21)) (3.4.1)\n",
            "Requirement already satisfied: urllib3<3,>=1.21.1 in /usr/local/lib/python3.11/dist-packages (from requests>=2.30.0->sphinx<9,>=6->sphinx_rtd_theme->-r /content/ai-privacy-toolkit/requirements.txt (line 21)) (2.3.0)\n",
            "Requirement already satisfied: cffi>=1.0.1 in /usr/local/lib/python3.11/dist-packages (from argon2-cffi-bindings->argon2-cffi->notebook->-r /content/ai-privacy-toolkit/requirements.txt (line 16)) (1.17.1)\n",
            "Requirement already satisfied: soupsieve>1.2 in /usr/local/lib/python3.11/dist-packages (from beautifulsoup4->nbconvert>=5->notebook->-r /content/ai-privacy-toolkit/requirements.txt (line 16)) (2.6)\n",
            "Requirement already satisfied: sniffio>=1.1 in /usr/local/lib/python3.11/dist-packages (from anyio->httpx>=0.25.0->jupyterlab->jupyter->-r /content/ai-privacy-toolkit/requirements.txt (line 17)) (1.3.1)\n",
            "Requirement already satisfied: pycparser in /usr/local/lib/python3.11/dist-packages (from cffi>=1.0.1->argon2-cffi-bindings->argon2-cffi->notebook->-r /content/ai-privacy-toolkit/requirements.txt (line 16)) (2.22)\n",
            "Collecting python-json-logger>=2.0.4 (from jupyter-events>=0.11.0->jupyter-server<3,>=2.4.0->jupyterlab->jupyter->-r /content/ai-privacy-toolkit/requirements.txt (line 17))\n",
            "  Downloading python_json_logger-3.2.1-py3-none-any.whl.metadata (4.1 kB)\n",
            "Requirement already satisfied: pyyaml>=5.3 in /usr/local/lib/python3.11/dist-packages (from jupyter-events>=0.11.0->jupyter-server<3,>=2.4.0->jupyterlab->jupyter->-r /content/ai-privacy-toolkit/requirements.txt (line 17)) (6.0.2)\n",
            "Collecting rfc3339-validator (from jupyter-events>=0.11.0->jupyter-server<3,>=2.4.0->jupyterlab->jupyter->-r /content/ai-privacy-toolkit/requirements.txt (line 17))\n",
            "  Downloading rfc3339_validator-0.1.4-py2.py3-none-any.whl.metadata (1.5 kB)\n",
            "Collecting rfc3986-validator>=0.1.1 (from jupyter-events>=0.11.0->jupyter-server<3,>=2.4.0->jupyterlab->jupyter->-r /content/ai-privacy-toolkit/requirements.txt (line 17))\n",
            "  Downloading rfc3986_validator-0.1.1-py2.py3-none-any.whl.metadata (1.7 kB)\n",
            "Collecting fqdn (from jsonschema[format-nongpl]>=4.18.0->jupyter-events>=0.11.0->jupyter-server<3,>=2.4.0->jupyterlab->jupyter->-r /content/ai-privacy-toolkit/requirements.txt (line 17))\n",
            "  Downloading fqdn-1.5.1-py3-none-any.whl.metadata (1.4 kB)\n",
            "Collecting isoduration (from jsonschema[format-nongpl]>=4.18.0->jupyter-events>=0.11.0->jupyter-server<3,>=2.4.0->jupyterlab->jupyter->-r /content/ai-privacy-toolkit/requirements.txt (line 17))\n",
            "  Downloading isoduration-20.11.0-py3-none-any.whl.metadata (5.7 kB)\n",
            "Requirement already satisfied: jsonpointer>1.13 in /usr/local/lib/python3.11/dist-packages (from jsonschema[format-nongpl]>=4.18.0->jupyter-events>=0.11.0->jupyter-server<3,>=2.4.0->jupyterlab->jupyter->-r /content/ai-privacy-toolkit/requirements.txt (line 17)) (3.0.0)\n",
            "Collecting uri-template (from jsonschema[format-nongpl]>=4.18.0->jupyter-events>=0.11.0->jupyter-server<3,>=2.4.0->jupyterlab->jupyter->-r /content/ai-privacy-toolkit/requirements.txt (line 17))\n",
            "  Downloading uri_template-1.3.0-py3-none-any.whl.metadata (8.8 kB)\n",
            "Requirement already satisfied: webcolors>=24.6.0 in /usr/local/lib/python3.11/dist-packages (from jsonschema[format-nongpl]>=4.18.0->jupyter-events>=0.11.0->jupyter-server<3,>=2.4.0->jupyterlab->jupyter->-r /content/ai-privacy-toolkit/requirements.txt (line 17)) (24.11.1)\n",
            "Collecting arrow>=0.15.0 (from isoduration->jsonschema[format-nongpl]>=4.18.0->jupyter-events>=0.11.0->jupyter-server<3,>=2.4.0->jupyterlab->jupyter->-r /content/ai-privacy-toolkit/requirements.txt (line 17))\n",
            "  Downloading arrow-1.3.0-py3-none-any.whl.metadata (7.5 kB)\n",
            "Collecting types-python-dateutil>=2.8.10 (from arrow>=0.15.0->isoduration->jsonschema[format-nongpl]>=4.18.0->jupyter-events>=0.11.0->jupyter-server<3,>=2.4.0->jupyterlab->jupyter->-r /content/ai-privacy-toolkit/requirements.txt (line 17))\n",
            "  Downloading types_python_dateutil-2.9.0.20241206-py3-none-any.whl.metadata (2.1 kB)\n",
            "Downloading numpy-1.24.2-cp311-cp311-manylinux_2_17_x86_64.manylinux2014_x86_64.whl (17.3 MB)\n",
            "\u001b[2K   \u001b[90m━━━━━━━━━━━━━━━━━━━━━━━━━━━━━━━━━━━━━━━━\u001b[0m \u001b[32m17.3/17.3 MB\u001b[0m \u001b[31m101.0 MB/s\u001b[0m eta \u001b[36m0:00:00\u001b[0m\n",
            "\u001b[?25hDownloading scipy-1.10.1-cp311-cp311-manylinux_2_17_x86_64.manylinux2014_x86_64.whl (34.1 MB)\n",
            "\u001b[2K   \u001b[90m━━━━━━━━━━━━━━━━━━━━━━━━━━━━━━━━━━━━━━━━\u001b[0m \u001b[32m34.1/34.1 MB\u001b[0m \u001b[31m37.4 MB/s\u001b[0m eta \u001b[36m0:00:00\u001b[0m\n",
            "\u001b[?25hDownloading pytest-5.4.2-py3-none-any.whl (247 kB)\n",
            "\u001b[2K   \u001b[90m━━━━━━━━━━━━━━━━━━━━━━━━━━━━━━━━━━━━━━━━\u001b[0m \u001b[32m247.4/247.4 kB\u001b[0m \u001b[31m20.0 MB/s\u001b[0m eta \u001b[36m0:00:00\u001b[0m\n",
            "\u001b[?25hDownloading xgboost-1.7.2-py3-none-manylinux2014_x86_64.whl (193.6 MB)\n",
            "\u001b[2K   \u001b[90m━━━━━━━━━━━━━━━━━━━━━━━━━━━━━━━━━━━━━━━━\u001b[0m \u001b[32m193.6/193.6 MB\u001b[0m \u001b[31m7.1 MB/s\u001b[0m eta \u001b[36m0:00:00\u001b[0m\n",
            "\u001b[?25hDownloading Pillow-9.3.0-cp311-cp311-manylinux_2_28_x86_64.whl (3.3 MB)\n",
            "\u001b[2K   \u001b[90m━━━━━━━━━━━━━━━━━━━━━━━━━━━━━━━━━━━━━━━━\u001b[0m \u001b[32m3.3/3.3 MB\u001b[0m \u001b[31m92.2 MB/s\u001b[0m eta \u001b[36m0:00:00\u001b[0m\n",
            "\u001b[?25hDownloading sortedcontainers-2.4.0-py2.py3-none-any.whl (29 kB)\n",
            "Downloading scikit_learn-1.1.3-cp311-cp311-manylinux_2_17_x86_64.manylinux2014_x86_64.whl (32.0 MB)\n",
            "\u001b[2K   \u001b[90m━━━━━━━━━━━━━━━━━━━━━━━━━━━━━━━━━━━━━━━━\u001b[0m \u001b[32m32.0/32.0 MB\u001b[0m \u001b[31m66.7 MB/s\u001b[0m eta \u001b[36m0:00:00\u001b[0m\n",
            "\u001b[?25hDownloading nvidia_cublas_cu12-12.4.5.8-py3-none-manylinux2014_x86_64.whl (363.4 MB)\n",
            "\u001b[2K   \u001b[90m━━━━━━━━━━━━━━━━━━━━━━━━━━━━━━━━━━━━━━━━\u001b[0m \u001b[32m363.4/363.4 MB\u001b[0m \u001b[31m1.5 MB/s\u001b[0m eta \u001b[36m0:00:00\u001b[0m\n",
            "\u001b[?25hDownloading nvidia_cuda_cupti_cu12-12.4.127-py3-none-manylinux2014_x86_64.whl (13.8 MB)\n",
            "\u001b[2K   \u001b[90m━━━━━━━━━━━━━━━━━━━━━━━━━━━━━━━━━━━━━━━━\u001b[0m \u001b[32m13.8/13.8 MB\u001b[0m \u001b[31m122.7 MB/s\u001b[0m eta \u001b[36m0:00:00\u001b[0m\n",
            "\u001b[?25hDownloading nvidia_cuda_nvrtc_cu12-12.4.127-py3-none-manylinux2014_x86_64.whl (24.6 MB)\n",
            "\u001b[2K   \u001b[90m━━━━━━━━━━━━━━━━━━━━━━━━━━━━━━━━━━━━━━━━\u001b[0m \u001b[32m24.6/24.6 MB\u001b[0m \u001b[31m90.8 MB/s\u001b[0m eta \u001b[36m0:00:00\u001b[0m\n",
            "\u001b[?25hDownloading nvidia_cuda_runtime_cu12-12.4.127-py3-none-manylinux2014_x86_64.whl (883 kB)\n",
            "\u001b[2K   \u001b[90m━━━━━━━━━━━━━━━━━━━━━━━━━━━━━━━━━━━━━━━━\u001b[0m \u001b[32m883.7/883.7 kB\u001b[0m \u001b[31m51.5 MB/s\u001b[0m eta \u001b[36m0:00:00\u001b[0m\n",
            "\u001b[?25hDownloading nvidia_cudnn_cu12-9.1.0.70-py3-none-manylinux2014_x86_64.whl (664.8 MB)\n",
            "\u001b[2K   \u001b[90m━━━━━━━━━━━━━━━━━━━━━━━━━━━━━━━━━━━━━━━━\u001b[0m \u001b[32m664.8/664.8 MB\u001b[0m \u001b[31m2.1 MB/s\u001b[0m eta \u001b[36m0:00:00\u001b[0m\n",
            "\u001b[?25hDownloading nvidia_cufft_cu12-11.2.1.3-py3-none-manylinux2014_x86_64.whl (211.5 MB)\n",
            "\u001b[2K   \u001b[90m━━━━━━━━━━━━━━━━━━━━━━━━━━━━━━━━━━━━━━━━\u001b[0m \u001b[32m211.5/211.5 MB\u001b[0m \u001b[31m5.6 MB/s\u001b[0m eta \u001b[36m0:00:00\u001b[0m\n",
            "\u001b[?25hDownloading nvidia_curand_cu12-10.3.5.147-py3-none-manylinux2014_x86_64.whl (56.3 MB)\n",
            "\u001b[2K   \u001b[90m━━━━━━━━━━━━━━━━━━━━━━━━━━━━━━━━━━━━━━━━\u001b[0m \u001b[32m56.3/56.3 MB\u001b[0m \u001b[31m12.9 MB/s\u001b[0m eta \u001b[36m0:00:00\u001b[0m\n",
            "\u001b[?25hDownloading nvidia_cusolver_cu12-11.6.1.9-py3-none-manylinux2014_x86_64.whl (127.9 MB)\n",
            "\u001b[2K   \u001b[90m━━━━━━━━━━━━━━━━━━━━━━━━━━━━━━━━━━━━━━━━\u001b[0m \u001b[32m127.9/127.9 MB\u001b[0m \u001b[31m7.5 MB/s\u001b[0m eta \u001b[36m0:00:00\u001b[0m\n",
            "\u001b[?25hDownloading nvidia_cusparse_cu12-12.3.1.170-py3-none-manylinux2014_x86_64.whl (207.5 MB)\n",
            "\u001b[2K   \u001b[90m━━━━━━━━━━━━━━━━━━━━━━━━━━━━━━━━━━━━━━━━\u001b[0m \u001b[32m207.5/207.5 MB\u001b[0m \u001b[31m5.4 MB/s\u001b[0m eta \u001b[36m0:00:00\u001b[0m\n",
            "\u001b[?25hDownloading nvidia_nvjitlink_cu12-12.4.127-py3-none-manylinux2014_x86_64.whl (21.1 MB)\n",
            "\u001b[2K   \u001b[90m━━━━━━━━━━━━━━━━━━━━━━━━━━━━━━━━━━━━━━━━\u001b[0m \u001b[32m21.1/21.1 MB\u001b[0m \u001b[31m36.2 MB/s\u001b[0m eta \u001b[36m0:00:00\u001b[0m\n",
            "\u001b[?25hDownloading jupyter-1.1.1-py2.py3-none-any.whl (2.7 kB)\n",
            "Downloading sphinx_rtd_theme-3.0.2-py2.py3-none-any.whl (7.7 MB)\n",
            "\u001b[2K   \u001b[90m━━━━━━━━━━━━━━━━━━━━━━━━━━━━━━━━━━━━━━━━\u001b[0m \u001b[32m7.7/7.7 MB\u001b[0m \u001b[31m83.0 MB/s\u001b[0m eta \u001b[36m0:00:00\u001b[0m\n",
            "\u001b[?25hDownloading pluggy-0.13.1-py2.py3-none-any.whl (18 kB)\n",
            "Downloading py-1.11.0-py2.py3-none-any.whl (98 kB)\n",
            "\u001b[2K   \u001b[90m━━━━━━━━━━━━━━━━━━━━━━━━━━━━━━━━━━━━━━━━\u001b[0m \u001b[32m98.7/98.7 kB\u001b[0m \u001b[31m7.4 MB/s\u001b[0m eta \u001b[36m0:00:00\u001b[0m\n",
            "\u001b[?25hDownloading sphinxcontrib_jquery-4.1-py2.py3-none-any.whl (121 kB)\n",
            "\u001b[2K   \u001b[90m━━━━━━━━━━━━━━━━━━━━━━━━━━━━━━━━━━━━━━━━\u001b[0m \u001b[32m121.1/121.1 kB\u001b[0m \u001b[31m9.3 MB/s\u001b[0m eta \u001b[36m0:00:00\u001b[0m\n",
            "\u001b[?25hDownloading jupyterlab-4.3.5-py3-none-any.whl (11.7 MB)\n",
            "\u001b[2K   \u001b[90m━━━━━━━━━━━━━━━━━━━━━━━━━━━━━━━━━━━━━━━━\u001b[0m \u001b[32m11.7/11.7 MB\u001b[0m \u001b[31m122.9 MB/s\u001b[0m eta \u001b[36m0:00:00\u001b[0m\n",
            "\u001b[?25hDownloading async_lru-2.0.4-py3-none-any.whl (6.1 kB)\n",
            "Downloading jedi-0.19.2-py2.py3-none-any.whl (1.6 MB)\n",
            "\u001b[2K   \u001b[90m━━━━━━━━━━━━━━━━━━━━━━━━━━━━━━━━━━━━━━━━\u001b[0m \u001b[32m1.6/1.6 MB\u001b[0m \u001b[31m83.3 MB/s\u001b[0m eta \u001b[36m0:00:00\u001b[0m\n",
            "\u001b[?25hDownloading jupyter_lsp-2.2.5-py3-none-any.whl (69 kB)\n",
            "\u001b[2K   \u001b[90m━━━━━━━━━━━━━━━━━━━━━━━━━━━━━━━━━━━━━━━━\u001b[0m \u001b[32m69.1/69.1 kB\u001b[0m \u001b[31m6.2 MB/s\u001b[0m eta \u001b[36m0:00:00\u001b[0m\n",
            "\u001b[?25hDownloading jupyter_server-2.15.0-py3-none-any.whl (385 kB)\n",
            "\u001b[2K   \u001b[90m━━━━━━━━━━━━━━━━━━━━━━━━━━━━━━━━━━━━━━━━\u001b[0m \u001b[32m385.8/385.8 kB\u001b[0m \u001b[31m29.7 MB/s\u001b[0m eta \u001b[36m0:00:00\u001b[0m\n",
            "\u001b[?25hDownloading jupyter_client-7.4.9-py3-none-any.whl (133 kB)\n",
            "\u001b[2K   \u001b[90m━━━━━━━━━━━━━━━━━━━━━━━━━━━━━━━━━━━━━━━━\u001b[0m \u001b[32m133.5/133.5 kB\u001b[0m \u001b[31m12.2 MB/s\u001b[0m eta \u001b[36m0:00:00\u001b[0m\n",
            "\u001b[?25hDownloading jupyterlab_server-2.27.3-py3-none-any.whl (59 kB)\n",
            "\u001b[2K   \u001b[90m━━━━━━━━━━━━━━━━━━━━━━━━━━━━━━━━━━━━━━━━\u001b[0m \u001b[32m59.7/59.7 kB\u001b[0m \u001b[31m6.4 MB/s\u001b[0m eta \u001b[36m0:00:00\u001b[0m\n",
            "\u001b[?25hDownloading json5-0.10.0-py3-none-any.whl (34 kB)\n",
            "Downloading jupyter_events-0.12.0-py3-none-any.whl (19 kB)\n",
            "Downloading jupyter_server_terminals-0.5.3-py3-none-any.whl (13 kB)\n",
            "Downloading overrides-7.7.0-py3-none-any.whl (17 kB)\n",
            "Downloading python_json_logger-3.2.1-py3-none-any.whl (14 kB)\n",
            "Downloading rfc3986_validator-0.1.1-py2.py3-none-any.whl (4.2 kB)\n",
            "Downloading rfc3339_validator-0.1.4-py2.py3-none-any.whl (3.5 kB)\n",
            "Downloading fqdn-1.5.1-py3-none-any.whl (9.1 kB)\n",
            "Downloading isoduration-20.11.0-py3-none-any.whl (11 kB)\n",
            "Downloading uri_template-1.3.0-py3-none-any.whl (11 kB)\n",
            "Downloading arrow-1.3.0-py3-none-any.whl (66 kB)\n",
            "\u001b[2K   \u001b[90m━━━━━━━━━━━━━━━━━━━━━━━━━━━━━━━━━━━━━━━━\u001b[0m \u001b[32m66.4/66.4 kB\u001b[0m \u001b[31m5.5 MB/s\u001b[0m eta \u001b[36m0:00:00\u001b[0m\n",
            "\u001b[?25hDownloading types_python_dateutil-2.9.0.20241206-py3-none-any.whl (14 kB)\n",
            "Building wheels for collected packages: pandas\n",
            "  \u001b[1;31merror\u001b[0m: \u001b[1msubprocess-exited-with-error\u001b[0m\n",
            "  \n",
            "  \u001b[31m×\u001b[0m \u001b[32mBuilding wheel for pandas \u001b[0m\u001b[1;32m(\u001b[0m\u001b[32mpyproject.toml\u001b[0m\u001b[1;32m)\u001b[0m did not run successfully.\n",
            "  \u001b[31m│\u001b[0m exit code: \u001b[1;36m1\u001b[0m\n",
            "  \u001b[31m╰─>\u001b[0m See above for output.\n",
            "  \n",
            "  \u001b[1;35mnote\u001b[0m: This error originates from a subprocess, and is likely not a problem with pip.\n",
            "  Building wheel for pandas (pyproject.toml) ... \u001b[?25l\u001b[?25herror\n",
            "\u001b[31m  ERROR: Failed building wheel for pandas\u001b[0m\u001b[31m\n",
            "\u001b[0mFailed to build pandas\n",
            "\u001b[31mERROR: ERROR: Failed to build installable wheels for some pyproject.toml based projects (pandas)\u001b[0m\u001b[31m\n",
            "\u001b[0m"
          ]
        }
      ]
    },
    {
      "cell_type": "code",
      "source": [
        "! pip install adversarial-robustness-toolbox"
      ],
      "metadata": {
        "colab": {
          "base_uri": "https://localhost:8080/"
        },
        "id": "z98A62ctaIg8",
        "outputId": "21c875d5-c630-438a-9aab-94ad308ca2c2"
      },
      "execution_count": 5,
      "outputs": [
        {
          "output_type": "stream",
          "name": "stdout",
          "text": [
            "Collecting adversarial-robustness-toolbox\n",
            "  Downloading adversarial_robustness_toolbox-1.19.1-py3-none-any.whl.metadata (11 kB)\n",
            "Requirement already satisfied: numpy>=1.18.0 in /usr/local/lib/python3.11/dist-packages (from adversarial-robustness-toolbox) (1.26.4)\n",
            "Requirement already satisfied: scipy>=1.4.1 in /usr/local/lib/python3.11/dist-packages (from adversarial-robustness-toolbox) (1.13.1)\n",
            "Requirement already satisfied: scikit-learn>=0.22.2 in /usr/local/lib/python3.11/dist-packages (from adversarial-robustness-toolbox) (1.6.1)\n",
            "Requirement already satisfied: six in /usr/local/lib/python3.11/dist-packages (from adversarial-robustness-toolbox) (1.17.0)\n",
            "Requirement already satisfied: setuptools in /usr/local/lib/python3.11/dist-packages (from adversarial-robustness-toolbox) (75.1.0)\n",
            "Requirement already satisfied: tqdm in /usr/local/lib/python3.11/dist-packages (from adversarial-robustness-toolbox) (4.67.1)\n",
            "Requirement already satisfied: joblib>=1.2.0 in /usr/local/lib/python3.11/dist-packages (from scikit-learn>=0.22.2->adversarial-robustness-toolbox) (1.4.2)\n",
            "Requirement already satisfied: threadpoolctl>=3.1.0 in /usr/local/lib/python3.11/dist-packages (from scikit-learn>=0.22.2->adversarial-robustness-toolbox) (3.5.0)\n",
            "Downloading adversarial_robustness_toolbox-1.19.1-py3-none-any.whl (1.7 MB)\n",
            "\u001b[2K   \u001b[90m━━━━━━━━━━━━━━━━━━━━━━━━━━━━━━━━━━━━━━━━\u001b[0m \u001b[32m1.7/1.7 MB\u001b[0m \u001b[31m16.4 MB/s\u001b[0m eta \u001b[36m0:00:00\u001b[0m\n",
            "\u001b[?25hInstalling collected packages: adversarial-robustness-toolbox\n",
            "Successfully installed adversarial-robustness-toolbox-1.19.1\n"
          ]
        }
      ]
    },
    {
      "cell_type": "markdown",
      "metadata": {
        "pycharm": {
          "name": "#%% md\n"
        },
        "id": "S8Om_fqfZq6Z"
      },
      "source": [
        "## Load data\n",
        "QI parameter for Quasi Indentifier deifinition."
      ]
    },
    {
      "cell_type": "code",
      "execution_count": 6,
      "metadata": {
        "pycharm": {
          "name": "#%%\n"
        },
        "id": "FRjk6Q4zZq6Z"
      },
      "outputs": [],
      "source": [
        "import pandas as pd\n",
        "from sklearn.datasets import load_breast_cancer\n",
        "from sklearn.model_selection import train_test_split\n",
        "\n",
        "dataset = load_breast_cancer()\n",
        "X, y = dataset.data, dataset.target\n",
        "features = list(dataset.feature_names)  # All features from the dataset\n",
        "QI = [\"mean texture\", \"mean perimeter\", \"mean smoothness\"]\n",
        "sensitive_attribute = \"mean radius\""
      ]
    },
    {
      "cell_type": "code",
      "source": [
        "print(features)"
      ],
      "metadata": {
        "colab": {
          "base_uri": "https://localhost:8080/"
        },
        "id": "Foq_2yLzmOzi",
        "outputId": "6684f14a-baad-4998-f7e0-f32481d17837"
      },
      "execution_count": 7,
      "outputs": [
        {
          "output_type": "stream",
          "name": "stdout",
          "text": [
            "['mean radius', 'mean texture', 'mean perimeter', 'mean area', 'mean smoothness', 'mean compactness', 'mean concavity', 'mean concave points', 'mean symmetry', 'mean fractal dimension', 'radius error', 'texture error', 'perimeter error', 'area error', 'smoothness error', 'compactness error', 'concavity error', 'concave points error', 'symmetry error', 'fractal dimension error', 'worst radius', 'worst texture', 'worst perimeter', 'worst area', 'worst smoothness', 'worst compactness', 'worst concavity', 'worst concave points', 'worst symmetry', 'worst fractal dimension']\n"
          ]
        }
      ]
    },
    {
      "cell_type": "markdown",
      "metadata": {
        "id": "3lCOL4ZwZq6Z"
      },
      "source": [
        "## Train DecisionTreeRegressor model"
      ]
    },
    {
      "cell_type": "code",
      "execution_count": 8,
      "metadata": {
        "pycharm": {
          "name": "#%%\n"
        },
        "colab": {
          "base_uri": "https://localhost:8080/"
        },
        "id": "8WrAz9seZq6Z",
        "outputId": "6b65a45e-7438-4fb6-d38d-f5a9e0788ebb"
      },
      "outputs": [
        {
          "output_type": "stream",
          "name": "stdout",
          "text": [
            "Base model accuracy (R2 score):  0.579424475598187\n"
          ]
        }
      ],
      "source": [
        "import warnings\n",
        "warnings.filterwarnings(\"ignore\")\n",
        "from sklearn.tree import DecisionTreeRegressor\n",
        "\n",
        "#Dataset split to train baseline model\n",
        "X_train, X_test, y_train, y_test = train_test_split(X, y, test_size=0.5, random_state=14)\n",
        "\n",
        "# Train a DecisionTreeRegressor as our baseline model.\n",
        "model = DecisionTreeRegressor(random_state=10, min_samples_split=2)\n",
        "model.fit(X_train, y_train)\n",
        "\n",
        "#Measure base line accuracy\n",
        "print('Base model accuracy (R2 score): ', model.score(X_test, y_test))"
      ]
    },
    {
      "cell_type": "markdown",
      "metadata": {
        "id": "E_uP-GkFZq6a"
      },
      "source": [
        "## Data pre-processing\n"
      ]
    },
    {
      "cell_type": "code",
      "execution_count": 9,
      "metadata": {
        "pycharm": {
          "name": "#%%\n"
        },
        "id": "t_oCi0kAZq6a",
        "collapsed": true
      },
      "outputs": [],
      "source": [
        "from apt.utils.datasets import ArrayDataset\n",
        "\n",
        "# In a real-world scenario, the model is pre-trained and we no longer have access to the original training data.\n",
        "# Here, we assume the test set is all we have.\n",
        "# Create a DataFrame for the test data.\n",
        "df_test = pd.DataFrame(X_test, columns=features)\n",
        "df_test['target'] = y_test\n",
        "\n",
        "# Wrap the test data into an ArrayDataset.\n",
        "test_dataset = ArrayDataset(df_test.drop(columns=['target']), df_test['target'])\n",
        "test_dataset.features_names = list(df_test.columns.drop('target'))"
      ]
    },
    {
      "cell_type": "markdown",
      "metadata": {
        "pycharm": {
          "name": "#%% md\n"
        },
        "id": "omm8blhZZq6a"
      },
      "source": [
        "## l-diversity and grid-search: Application\n",
        "\n"
      ]
    },
    {
      "cell_type": "code",
      "execution_count": 10,
      "metadata": {
        "pycharm": {
          "name": "#%%\n"
        },
        "id": "hI7CmHTSZq6a"
      },
      "outputs": [],
      "source": [
        "from apt.security.privacy_grid import grid_search_privacy\n",
        "from apt.security.privacy_grid import display_grid_search_results\n",
        "import contextlib, io\n",
        "\n",
        "\n",
        "# Set the desired target accuracy for the minimizer.\n",
        "target_accuracy = 0.6\n",
        "\n",
        "#Grid Search (Silencing the minimizer)\n",
        "with contextlib.redirect_stdout(io.StringIO()):\n",
        "  results = grid_search_privacy(\n",
        "      dataset=test_dataset,\n",
        "      sensitive_attribute=\"mean radius\",\n",
        "      quasi_identifiers=[\"mean texture\", \"mean perimeter\", \"mean smoothness\"],\n",
        "      model=model,\n",
        "      features=features,\n",
        "      target_accuracy=target_accuracy,\n",
        "      k_min=2, k_max=100,   # Adjust the range as needed.\n",
        "      l_min=1\n",
        "  )"
      ]
    },
    {
      "cell_type": "code",
      "source": [
        "#Example display of the results\n",
        "display_grid_search_results(results, min_accuracy=0.7, sort_by=\"deletion_ratio\")"
      ],
      "metadata": {
        "colab": {
          "base_uri": "https://localhost:8080/"
        },
        "id": "YhwBmdfLqeFM",
        "outputId": "d5a6b726-1205-4597-f610-602e1829f7fb"
      },
      "execution_count": 11,
      "outputs": [
        {
          "output_type": "stream",
          "name": "stdout",
          "text": [
            "Parameters: k=83, l=79\n",
            "Deletion Ratio: 0.291\n",
            "Accuracy on minimized data: 0.700\n",
            "Generalizations: {'ranges': {'mean texture': [], 'mean perimeter': [91.09000015258789], 'mean smoothness': []}, 'categories': {}, 'untouched': ['worst texture', 'mean compactness', 'fractal dimension error', 'worst area', 'mean concave points', 'worst fractal dimension', 'worst perimeter', 'worst smoothness', 'perimeter error', 'mean fractal dimension', 'compactness error', 'concave points error', 'radius error', 'worst concavity', 'worst symmetry', 'worst concave points', 'area error', 'mean area', 'concavity error', 'mean concavity', 'worst radius', 'mean symmetry', 'symmetry error', 'mean radius', 'texture error', 'worst compactness', 'smoothness error'], 'category_representatives': {}, 'range_representatives': {'mean texture': [], 'mean perimeter': [91.09000015258789], 'mean smoothness': []}}\n",
            "----------------------------------------\n",
            "Parameters: k=83, l=80\n",
            "Deletion Ratio: 0.291\n",
            "Accuracy on minimized data: 0.700\n",
            "Generalizations: {'ranges': {'mean texture': [], 'mean perimeter': [91.09000015258789], 'mean smoothness': []}, 'categories': {}, 'untouched': ['worst texture', 'mean compactness', 'fractal dimension error', 'worst area', 'mean concave points', 'worst fractal dimension', 'worst perimeter', 'worst smoothness', 'perimeter error', 'mean fractal dimension', 'compactness error', 'concave points error', 'radius error', 'worst concavity', 'worst symmetry', 'worst concave points', 'area error', 'mean area', 'concavity error', 'mean concavity', 'worst radius', 'mean symmetry', 'symmetry error', 'mean radius', 'texture error', 'worst compactness', 'smoothness error'], 'category_representatives': {}, 'range_representatives': {'mean texture': [], 'mean perimeter': [91.09000015258789], 'mean smoothness': []}}\n",
            "----------------------------------------\n",
            "Parameters: k=47, l=47\n",
            "Deletion Ratio: 0.330\n",
            "Accuracy on minimized data: 0.884\n",
            "Generalizations: {'ranges': {'mean texture': [], 'mean perimeter': [97.2300033569336], 'mean smoothness': []}, 'categories': {}, 'untouched': ['worst texture', 'mean compactness', 'fractal dimension error', 'worst area', 'mean concave points', 'worst fractal dimension', 'worst perimeter', 'worst smoothness', 'perimeter error', 'mean fractal dimension', 'compactness error', 'concave points error', 'radius error', 'worst concavity', 'worst symmetry', 'worst concave points', 'area error', 'mean area', 'concavity error', 'mean concavity', 'worst radius', 'mean symmetry', 'symmetry error', 'mean radius', 'texture error', 'worst compactness', 'smoothness error'], 'category_representatives': {}, 'range_representatives': {'mean texture': [], 'mean perimeter': [97.2300033569336], 'mean smoothness': []}}\n",
            "----------------------------------------\n",
            "Parameters: k=48, l=48\n",
            "Deletion Ratio: 0.337\n",
            "Accuracy on minimized data: 0.885\n",
            "Generalizations: {'ranges': {'mean texture': [], 'mean perimeter': [97.16500091552734], 'mean smoothness': []}, 'categories': {}, 'untouched': ['worst texture', 'mean compactness', 'fractal dimension error', 'worst area', 'mean concave points', 'worst fractal dimension', 'worst perimeter', 'worst smoothness', 'perimeter error', 'mean fractal dimension', 'compactness error', 'concave points error', 'radius error', 'worst concavity', 'worst symmetry', 'worst concave points', 'area error', 'mean area', 'concavity error', 'mean concavity', 'worst radius', 'mean symmetry', 'symmetry error', 'mean radius', 'texture error', 'worst compactness', 'smoothness error'], 'category_representatives': {}, 'range_representatives': {'mean texture': [], 'mean perimeter': [97.16500091552734], 'mean smoothness': []}}\n",
            "----------------------------------------\n",
            "Parameters: k=49, l=48\n",
            "Deletion Ratio: 0.344\n",
            "Accuracy on minimized data: 0.782\n",
            "Generalizations: {'ranges': {'mean texture': [], 'mean perimeter': [97.21999740600586], 'mean smoothness': []}, 'categories': {}, 'untouched': ['worst texture', 'mean compactness', 'fractal dimension error', 'worst area', 'mean concave points', 'worst fractal dimension', 'worst perimeter', 'worst smoothness', 'perimeter error', 'mean fractal dimension', 'compactness error', 'concave points error', 'radius error', 'worst concavity', 'worst symmetry', 'worst concave points', 'area error', 'mean area', 'concavity error', 'mean concavity', 'worst radius', 'mean symmetry', 'symmetry error', 'mean radius', 'texture error', 'worst compactness', 'smoothness error'], 'category_representatives': {}, 'range_representatives': {'mean texture': [], 'mean perimeter': [97.21999740600586], 'mean smoothness': []}}\n",
            "----------------------------------------\n",
            "Parameters: k=49, l=49\n",
            "Deletion Ratio: 0.344\n",
            "Accuracy on minimized data: 0.782\n",
            "Generalizations: {'ranges': {'mean texture': [], 'mean perimeter': [97.21999740600586], 'mean smoothness': []}, 'categories': {}, 'untouched': ['worst texture', 'mean compactness', 'fractal dimension error', 'worst area', 'mean concave points', 'worst fractal dimension', 'worst perimeter', 'worst smoothness', 'perimeter error', 'mean fractal dimension', 'compactness error', 'concave points error', 'radius error', 'worst concavity', 'worst symmetry', 'worst concave points', 'area error', 'mean area', 'concavity error', 'mean concavity', 'worst radius', 'mean symmetry', 'symmetry error', 'mean radius', 'texture error', 'worst compactness', 'smoothness error'], 'category_representatives': {}, 'range_representatives': {'mean texture': [], 'mean perimeter': [97.21999740600586], 'mean smoothness': []}}\n",
            "----------------------------------------\n",
            "Parameters: k=50, l=49\n",
            "Deletion Ratio: 0.351\n",
            "Accuracy on minimized data: 0.835\n",
            "Generalizations: {'ranges': {'mean texture': [], 'mean perimeter': [97.21999740600586], 'mean smoothness': []}, 'categories': {}, 'untouched': ['worst texture', 'mean compactness', 'fractal dimension error', 'worst area', 'mean concave points', 'worst fractal dimension', 'worst perimeter', 'worst smoothness', 'perimeter error', 'mean fractal dimension', 'compactness error', 'concave points error', 'radius error', 'worst concavity', 'worst symmetry', 'worst concave points', 'area error', 'mean area', 'concavity error', 'mean concavity', 'worst radius', 'mean symmetry', 'symmetry error', 'mean radius', 'texture error', 'worst compactness', 'smoothness error'], 'category_representatives': {}, 'range_representatives': {'mean texture': [], 'mean perimeter': [97.21999740600586], 'mean smoothness': []}}\n",
            "----------------------------------------\n",
            "Parameters: k=50, l=50\n",
            "Deletion Ratio: 0.351\n",
            "Accuracy on minimized data: 0.835\n",
            "Generalizations: {'ranges': {'mean texture': [], 'mean perimeter': [97.21999740600586], 'mean smoothness': []}, 'categories': {}, 'untouched': ['worst texture', 'mean compactness', 'fractal dimension error', 'worst area', 'mean concave points', 'worst fractal dimension', 'worst perimeter', 'worst smoothness', 'perimeter error', 'mean fractal dimension', 'compactness error', 'concave points error', 'radius error', 'worst concavity', 'worst symmetry', 'worst concave points', 'area error', 'mean area', 'concavity error', 'mean concavity', 'worst radius', 'mean symmetry', 'symmetry error', 'mean radius', 'texture error', 'worst compactness', 'smoothness error'], 'category_representatives': {}, 'range_representatives': {'mean texture': [], 'mean perimeter': [97.21999740600586], 'mean smoothness': []}}\n",
            "----------------------------------------\n",
            "Parameters: k=51, l=50\n",
            "Deletion Ratio: 0.358\n",
            "Accuracy on minimized data: 0.763\n",
            "Generalizations: {'ranges': {'mean texture': [], 'mean perimeter': [97.31999969482422], 'mean smoothness': []}, 'categories': {}, 'untouched': ['worst texture', 'mean compactness', 'fractal dimension error', 'worst area', 'mean concave points', 'worst fractal dimension', 'worst perimeter', 'worst smoothness', 'perimeter error', 'mean fractal dimension', 'compactness error', 'concave points error', 'radius error', 'worst concavity', 'worst symmetry', 'worst concave points', 'area error', 'mean area', 'concavity error', 'mean concavity', 'worst radius', 'mean symmetry', 'symmetry error', 'mean radius', 'texture error', 'worst compactness', 'smoothness error'], 'category_representatives': {}, 'range_representatives': {'mean texture': [], 'mean perimeter': [97.31999969482422], 'mean smoothness': []}}\n",
            "----------------------------------------\n",
            "Parameters: k=51, l=51\n",
            "Deletion Ratio: 0.358\n",
            "Accuracy on minimized data: 0.763\n",
            "Generalizations: {'ranges': {'mean texture': [], 'mean perimeter': [97.31999969482422], 'mean smoothness': []}, 'categories': {}, 'untouched': ['worst texture', 'mean compactness', 'fractal dimension error', 'worst area', 'mean concave points', 'worst fractal dimension', 'worst perimeter', 'worst smoothness', 'perimeter error', 'mean fractal dimension', 'compactness error', 'concave points error', 'radius error', 'worst concavity', 'worst symmetry', 'worst concave points', 'area error', 'mean area', 'concavity error', 'mean concavity', 'worst radius', 'mean symmetry', 'symmetry error', 'mean radius', 'texture error', 'worst compactness', 'smoothness error'], 'category_representatives': {}, 'range_representatives': {'mean texture': [], 'mean perimeter': [97.31999969482422], 'mean smoothness': []}}\n",
            "----------------------------------------\n",
            "Parameters: k=52, l=51\n",
            "Deletion Ratio: 0.365\n",
            "Accuracy on minimized data: 0.943\n",
            "Generalizations: {'ranges': {'mean texture': [], 'mean perimeter': [97.31999969482422], 'mean smoothness': []}, 'categories': {}, 'untouched': ['worst texture', 'mean compactness', 'fractal dimension error', 'worst area', 'mean concave points', 'worst fractal dimension', 'worst perimeter', 'worst smoothness', 'perimeter error', 'mean fractal dimension', 'compactness error', 'concave points error', 'radius error', 'worst concavity', 'worst symmetry', 'worst concave points', 'area error', 'mean area', 'concavity error', 'mean concavity', 'worst radius', 'mean symmetry', 'symmetry error', 'mean radius', 'texture error', 'worst compactness', 'smoothness error'], 'category_representatives': {}, 'range_representatives': {'mean texture': [], 'mean perimeter': [97.31999969482422], 'mean smoothness': []}}\n",
            "----------------------------------------\n",
            "Parameters: k=52, l=52\n",
            "Deletion Ratio: 0.365\n",
            "Accuracy on minimized data: 0.943\n",
            "Generalizations: {'ranges': {'mean texture': [], 'mean perimeter': [97.31999969482422], 'mean smoothness': []}, 'categories': {}, 'untouched': ['worst texture', 'mean compactness', 'fractal dimension error', 'worst area', 'mean concave points', 'worst fractal dimension', 'worst perimeter', 'worst smoothness', 'perimeter error', 'mean fractal dimension', 'compactness error', 'concave points error', 'radius error', 'worst concavity', 'worst symmetry', 'worst concave points', 'area error', 'mean area', 'concavity error', 'mean concavity', 'worst radius', 'mean symmetry', 'symmetry error', 'mean radius', 'texture error', 'worst compactness', 'smoothness error'], 'category_representatives': {}, 'range_representatives': {'mean texture': [], 'mean perimeter': [97.31999969482422], 'mean smoothness': []}}\n",
            "----------------------------------------\n",
            "Parameters: k=53, l=52\n",
            "Deletion Ratio: 0.375\n",
            "Accuracy on minimized data: 0.885\n",
            "Generalizations: {'ranges': {'mean texture': [], 'mean perimeter': [97.28000259399414], 'mean smoothness': []}, 'categories': {}, 'untouched': ['worst texture', 'mean compactness', 'fractal dimension error', 'worst area', 'mean concave points', 'worst fractal dimension', 'worst perimeter', 'worst smoothness', 'perimeter error', 'mean fractal dimension', 'compactness error', 'concave points error', 'radius error', 'worst concavity', 'worst symmetry', 'worst concave points', 'area error', 'mean area', 'concavity error', 'mean concavity', 'worst radius', 'mean symmetry', 'symmetry error', 'mean radius', 'texture error', 'worst compactness', 'smoothness error'], 'category_representatives': {}, 'range_representatives': {'mean texture': [], 'mean perimeter': [97.28000259399414], 'mean smoothness': []}}\n",
            "----------------------------------------\n",
            "Parameters: k=53, l=53\n",
            "Deletion Ratio: 0.375\n",
            "Accuracy on minimized data: 0.885\n",
            "Generalizations: {'ranges': {'mean texture': [], 'mean perimeter': [97.28000259399414], 'mean smoothness': []}, 'categories': {}, 'untouched': ['worst texture', 'mean compactness', 'fractal dimension error', 'worst area', 'mean concave points', 'worst fractal dimension', 'worst perimeter', 'worst smoothness', 'perimeter error', 'mean fractal dimension', 'compactness error', 'concave points error', 'radius error', 'worst concavity', 'worst symmetry', 'worst concave points', 'area error', 'mean area', 'concavity error', 'mean concavity', 'worst radius', 'mean symmetry', 'symmetry error', 'mean radius', 'texture error', 'worst compactness', 'smoothness error'], 'category_representatives': {}, 'range_representatives': {'mean texture': [], 'mean perimeter': [97.28000259399414], 'mean smoothness': []}}\n",
            "----------------------------------------\n",
            "Parameters: k=54, l=53\n",
            "Deletion Ratio: 0.379\n",
            "Accuracy on minimized data: 0.940\n",
            "Generalizations: {'ranges': {'mean texture': [], 'mean perimeter': [97.28000259399414], 'mean smoothness': []}, 'categories': {}, 'untouched': ['worst texture', 'mean compactness', 'fractal dimension error', 'worst area', 'mean concave points', 'worst fractal dimension', 'worst perimeter', 'worst smoothness', 'perimeter error', 'mean fractal dimension', 'compactness error', 'concave points error', 'radius error', 'worst concavity', 'worst symmetry', 'worst concave points', 'area error', 'mean area', 'concavity error', 'mean concavity', 'worst radius', 'mean symmetry', 'symmetry error', 'mean radius', 'texture error', 'worst compactness', 'smoothness error'], 'category_representatives': {}, 'range_representatives': {'mean texture': [], 'mean perimeter': [97.28000259399414], 'mean smoothness': []}}\n",
            "----------------------------------------\n",
            "Parameters: k=54, l=54\n",
            "Deletion Ratio: 0.379\n",
            "Accuracy on minimized data: 0.940\n",
            "Generalizations: {'ranges': {'mean texture': [], 'mean perimeter': [97.28000259399414], 'mean smoothness': []}, 'categories': {}, 'untouched': ['worst texture', 'mean compactness', 'fractal dimension error', 'worst area', 'mean concave points', 'worst fractal dimension', 'worst perimeter', 'worst smoothness', 'perimeter error', 'mean fractal dimension', 'compactness error', 'concave points error', 'radius error', 'worst concavity', 'worst symmetry', 'worst concave points', 'area error', 'mean area', 'concavity error', 'mean concavity', 'worst radius', 'mean symmetry', 'symmetry error', 'mean radius', 'texture error', 'worst compactness', 'smoothness error'], 'category_representatives': {}, 'range_representatives': {'mean texture': [], 'mean perimeter': [97.28000259399414], 'mean smoothness': []}}\n",
            "----------------------------------------\n",
            "Parameters: k=55, l=54\n",
            "Deletion Ratio: 0.386\n",
            "Accuracy on minimized data: 0.823\n",
            "Generalizations: {'ranges': {'mean texture': [], 'mean perimeter': [97.9800033569336], 'mean smoothness': []}, 'categories': {}, 'untouched': ['worst texture', 'mean compactness', 'fractal dimension error', 'worst area', 'mean concave points', 'worst fractal dimension', 'worst perimeter', 'worst smoothness', 'perimeter error', 'mean fractal dimension', 'compactness error', 'concave points error', 'radius error', 'worst concavity', 'worst symmetry', 'worst concave points', 'area error', 'mean area', 'concavity error', 'mean concavity', 'worst radius', 'mean symmetry', 'symmetry error', 'mean radius', 'texture error', 'worst compactness', 'smoothness error'], 'category_representatives': {}, 'range_representatives': {'mean texture': [], 'mean perimeter': [97.9800033569336], 'mean smoothness': []}}\n",
            "----------------------------------------\n",
            "Parameters: k=55, l=55\n",
            "Deletion Ratio: 0.386\n",
            "Accuracy on minimized data: 0.823\n",
            "Generalizations: {'ranges': {'mean texture': [], 'mean perimeter': [97.9800033569336], 'mean smoothness': []}, 'categories': {}, 'untouched': ['worst texture', 'mean compactness', 'fractal dimension error', 'worst area', 'mean concave points', 'worst fractal dimension', 'worst perimeter', 'worst smoothness', 'perimeter error', 'mean fractal dimension', 'compactness error', 'concave points error', 'radius error', 'worst concavity', 'worst symmetry', 'worst concave points', 'area error', 'mean area', 'concavity error', 'mean concavity', 'worst radius', 'mean symmetry', 'symmetry error', 'mean radius', 'texture error', 'worst compactness', 'smoothness error'], 'category_representatives': {}, 'range_representatives': {'mean texture': [], 'mean perimeter': [97.9800033569336], 'mean smoothness': []}}\n",
            "----------------------------------------\n",
            "Parameters: k=56, l=55\n",
            "Deletion Ratio: 0.393\n",
            "Accuracy on minimized data: 0.821\n",
            "Generalizations: {'ranges': {'mean texture': [], 'mean perimeter': [97.93000030517578], 'mean smoothness': []}, 'categories': {}, 'untouched': ['worst texture', 'mean compactness', 'fractal dimension error', 'worst area', 'mean concave points', 'worst fractal dimension', 'worst perimeter', 'worst smoothness', 'perimeter error', 'mean fractal dimension', 'compactness error', 'concave points error', 'radius error', 'worst concavity', 'worst symmetry', 'worst concave points', 'area error', 'mean area', 'concavity error', 'mean concavity', 'worst radius', 'mean symmetry', 'symmetry error', 'mean radius', 'texture error', 'worst compactness', 'smoothness error'], 'category_representatives': {}, 'range_representatives': {'mean texture': [], 'mean perimeter': [97.93000030517578], 'mean smoothness': []}}\n",
            "----------------------------------------\n",
            "Parameters: k=56, l=56\n",
            "Deletion Ratio: 0.393\n",
            "Accuracy on minimized data: 0.821\n",
            "Generalizations: {'ranges': {'mean texture': [], 'mean perimeter': [97.93000030517578], 'mean smoothness': []}, 'categories': {}, 'untouched': ['worst texture', 'mean compactness', 'fractal dimension error', 'worst area', 'mean concave points', 'worst fractal dimension', 'worst perimeter', 'worst smoothness', 'perimeter error', 'mean fractal dimension', 'compactness error', 'concave points error', 'radius error', 'worst concavity', 'worst symmetry', 'worst concave points', 'area error', 'mean area', 'concavity error', 'mean concavity', 'worst radius', 'mean symmetry', 'symmetry error', 'mean radius', 'texture error', 'worst compactness', 'smoothness error'], 'category_representatives': {}, 'range_representatives': {'mean texture': [], 'mean perimeter': [97.93000030517578], 'mean smoothness': []}}\n",
            "----------------------------------------\n",
            "Parameters: k=57, l=56\n",
            "Deletion Ratio: 0.400\n",
            "Accuracy on minimized data: 0.867\n",
            "Generalizations: {'ranges': {'mean texture': [], 'mean perimeter': [98.22999954223633], 'mean smoothness': []}, 'categories': {}, 'untouched': ['worst texture', 'mean compactness', 'fractal dimension error', 'worst area', 'mean concave points', 'worst fractal dimension', 'worst perimeter', 'worst smoothness', 'perimeter error', 'mean fractal dimension', 'compactness error', 'concave points error', 'radius error', 'worst concavity', 'worst symmetry', 'worst concave points', 'area error', 'mean area', 'concavity error', 'mean concavity', 'worst radius', 'mean symmetry', 'symmetry error', 'mean radius', 'texture error', 'worst compactness', 'smoothness error'], 'category_representatives': {}, 'range_representatives': {'mean texture': [], 'mean perimeter': [98.22999954223633], 'mean smoothness': []}}\n",
            "----------------------------------------\n",
            "Parameters: k=57, l=57\n",
            "Deletion Ratio: 0.400\n",
            "Accuracy on minimized data: 0.867\n",
            "Generalizations: {'ranges': {'mean texture': [], 'mean perimeter': [98.22999954223633], 'mean smoothness': []}, 'categories': {}, 'untouched': ['worst texture', 'mean compactness', 'fractal dimension error', 'worst area', 'mean concave points', 'worst fractal dimension', 'worst perimeter', 'worst smoothness', 'perimeter error', 'mean fractal dimension', 'compactness error', 'concave points error', 'radius error', 'worst concavity', 'worst symmetry', 'worst concave points', 'area error', 'mean area', 'concavity error', 'mean concavity', 'worst radius', 'mean symmetry', 'symmetry error', 'mean radius', 'texture error', 'worst compactness', 'smoothness error'], 'category_representatives': {}, 'range_representatives': {'mean texture': [], 'mean perimeter': [98.22999954223633], 'mean smoothness': []}}\n",
            "----------------------------------------\n",
            "Parameters: k=58, l=57\n",
            "Deletion Ratio: 0.407\n",
            "Accuracy on minimized data: 0.803\n",
            "Generalizations: {'ranges': {'mean texture': [], 'mean perimeter': [97.69499969482422], 'mean smoothness': []}, 'categories': {}, 'untouched': ['worst texture', 'mean compactness', 'fractal dimension error', 'worst area', 'mean concave points', 'worst fractal dimension', 'worst perimeter', 'worst smoothness', 'perimeter error', 'mean fractal dimension', 'compactness error', 'concave points error', 'radius error', 'worst concavity', 'worst symmetry', 'worst concave points', 'area error', 'mean area', 'concavity error', 'mean concavity', 'worst radius', 'mean symmetry', 'symmetry error', 'mean radius', 'texture error', 'worst compactness', 'smoothness error'], 'category_representatives': {}, 'range_representatives': {'mean texture': [], 'mean perimeter': [97.69499969482422], 'mean smoothness': []}}\n",
            "----------------------------------------\n",
            "Parameters: k=58, l=58\n",
            "Deletion Ratio: 0.407\n",
            "Accuracy on minimized data: 0.803\n",
            "Generalizations: {'ranges': {'mean texture': [], 'mean perimeter': [97.69499969482422], 'mean smoothness': []}, 'categories': {}, 'untouched': ['worst texture', 'mean compactness', 'fractal dimension error', 'worst area', 'mean concave points', 'worst fractal dimension', 'worst perimeter', 'worst smoothness', 'perimeter error', 'mean fractal dimension', 'compactness error', 'concave points error', 'radius error', 'worst concavity', 'worst symmetry', 'worst concave points', 'area error', 'mean area', 'concavity error', 'mean concavity', 'worst radius', 'mean symmetry', 'symmetry error', 'mean radius', 'texture error', 'worst compactness', 'smoothness error'], 'category_representatives': {}, 'range_representatives': {'mean texture': [], 'mean perimeter': [97.69499969482422], 'mean smoothness': []}}\n",
            "----------------------------------------\n"
          ]
        }
      ]
    }
  ],
  "metadata": {
    "kernelspec": {
      "display_name": "py3.10",
      "language": "python",
      "name": "ai-privacy-toolkit-zmu1p0im-py3.10"
    },
    "language_info": {
      "codemirror_mode": {
        "name": "ipython",
        "version": 3
      },
      "file_extension": ".py",
      "mimetype": "text/x-python",
      "name": "python",
      "nbconvert_exporter": "python",
      "pygments_lexer": "ipython3",
      "version": "3.10.15"
    },
    "colab": {
      "provenance": []
    }
  },
  "nbformat": 4,
  "nbformat_minor": 0
}