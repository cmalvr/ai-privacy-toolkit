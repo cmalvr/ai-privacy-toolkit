{
 "cells": [
  {
   "cell_type": "markdown",
   "metadata": {},
   "source": [
    "# Data Minimization: Inference Black-Box Attack on the Nursery Dataset"
   ]
  },
  {
   "cell_type": "markdown",
   "metadata": {},
   "source": [
    "## Load data"
   ]
  },
  {
   "cell_type": "code",
   "execution_count": null,
   "metadata": {},
   "outputs": [],
   "source": [
    "# Add the directory containing shamir.py to the PYTHONPATH if needed.\n",
    "import os\n",
    "import sys\n",
    "sys.path.insert(0, os.path.abspath('.'))\n",
    "\n",
    "# Import the secret sharing module\n",
    "from shamir import ShamirSecretSharingWrapper\n",
    "\n",
    "# Import your minimizer and dataset utilities.\n",
    "# (Assuming GeneralizeToRepresentative is defined in your minimizer module.)\n",
    "from apt.minimization import GeneralizeToRepresentative\n",
    "from apt.utils.dataset_utils import get_nursery_dataset_pd\n",
    "import pandas as pd\n",
    "import numpy as np\n",
    "\n",
    "# ---------------------------\n",
    "# Load the Nursery Dataset\n",
    "# ---------------------------\n",
    "(x_train, y_train), (x_test, y_test) = get_nursery_dataset_pd(transform_social=True)"
   ]
  },
  {
   "cell_type": "markdown",
   "metadata": {},
   "source": [
    "## Train: XGBoost Model"
   ]
  },
  {
   "cell_type": "code",
   "execution_count": null,
   "metadata": {},
   "outputs": [],
   "source": [
    "from apt.utils.datasets import ArrayDataset\n",
    "from apt.utils.models import SklearnClassifier, ModelOutputType\n",
    "from xgboost import XGBClassifier\n",
    "\n",
    "# Instantiate the XGBoost classifier.\n",
    "# Note: We disable the use of the label encoder and specify a log-loss evaluation metric.\n",
    "base_est = XGBClassifier(use_label_encoder=False, eval_metric='logloss')\n",
    "\n",
    "# Wrap the model using SklearnClassifier and specify that it outputs probabilities.\n",
    "model = SklearnClassifier(base_est, ModelOutputType.CLASSIFIER_PROBABILITIES)\n",
    "\n",
    "# Fit the model using your training data.\n",
    "model.fit(ArrayDataset(x_train, y_train))\n",
    "\n",
    "# Evaluate the model's accuracy on test data.\n",
    "print('Base model accuracy:', model.score(ArrayDataset(x_test, y_test)))"
   ]
  },
  {
   "cell_type": "markdown",
   "metadata": {},
   "source": [
    "## Train: XGBoost Minimization"
   ]
  },
  {
   "cell_type": "code",
   "execution_count": null,
   "metadata": {},
   "outputs": [],
   "source": [
    "from apt.minimization import GeneralizeToRepresentative\n",
    "from sklearn.model_selection import train_test_split\n",
    "\n",
    "# Use all columns for minimization in this example.\n",
    "minimizer = GeneralizeToRepresentative(model)\n",
    "X_generalizer_train, x_test, y_generalizer_train, y_test = train_test_split(x_test, y_test, stratify=y_test,\n",
    "                                                                test_size = 0.4, random_state = 38)\n",
    "x_train_predictions = model.predict(ArrayDataset(X_generalizer_train))\n",
    "if x_train_predictions.shape[1] > 1:\n",
    "    x_train_predictions = np.argmax(x_train_predictions, axis=1)\n",
    "minimizer.fit(dataset=ArrayDataset(X_generalizer_train, x_train_predictions))\n",
    "transformed = minimizer.transform(dataset=ArrayDataset(x_test))\n",
    "\n",
    "print('Accuracy on minimized data: ', model.score(ArrayDataset(transformed, y_test)))\n",
    "print('generalizations: ',minimizer.generalizations_)"
   ]
  },
  {
   "cell_type": "markdown",
   "metadata": {},
   "source": [
    "## Shamir Secret Sharing: Appplication"
   ]
  },
  {
   "cell_type": "code",
   "execution_count": null,
   "metadata": {},
   "outputs": [],
   "source": [
    "# Choose sensitive features (for example, the first two columns)\n",
    "sensitive_features = [x_train.columns[0], x_train.columns[1]]\n",
    "sss = ShamirSecretSharingWrapper(n_shares=5, threshold=3)\n",
    "shares = sss.split_dataframe(generalized_data, sensitive_features)\n",
    "\n",
    "# Display the secret shares for one sensitive column.\n",
    "print(\"Secret Shares for sensitive feature:\", sensitive_features[0])\n",
    "print(shares[sensitive_features[0]].head())\n",
    "\n",
    "# Demonstrate reconstruction: Reconstruct the secret for the first record.\n",
    "first_record_shares = shares[sensitive_features[0]].iloc[0].tolist()\n",
    "# Re-create share tuples with known x-indices.\n",
    "share_tuples = [(i+1, first_record_shares[i]) for i in range(5)]\n",
    "reconstructed_value = sss.reconstruct_value(share_tuples[:3])  # using any 3 shares\n",
    "print(\"Reconstructed value for first record, {}: {}\".format(sensitive_features[0], reconstructed_value))\n",
    "\n",
    "# ---------------------------\n",
    "# Evaluate Model Accuracy\n",
    "# ---------------------------\n",
    "# Compute accuracy on the generalized (minimized) data.\n",
    "if minimizer.encoder:\n",
    "    data_for_scoring = minimizer.encoder.transform(generalized_data)\n",
    "else:\n",
    "    data_for_scoring = generalized_data\n",
    "model_accuracy = minimizer.estimator.score(data_for_scoring, y_test)\n",
    "print(\"Model accuracy on minimized data:\", model_accuracy)\n",
    "\n",
    "# ---------------------------\n",
    "# Membership Inference Attack Metrics using IBM ART\n",
    "# ---------------------------\n",
    "# Install the ART library if not already installed:\n",
    "# !pip install adversarial-robustness-toolbox\n",
    "\n",
    "from art.attacks.inference.membership_inference import MembershipInferenceBlackBox\n",
    "from art.estimators.classification import SklearnClassifier\n",
    "\n",
    "# Wrap the underlying scikit-learn classifier used by your minimizer.\n",
    "# (Assuming minimizer.estimator._model holds the trained sklearn model.)\n",
    "art_classifier = SklearnClassifier(model=minimizer.estimator._model)\n",
    "\n",
    "# Create a membership inference attack (using a black-box approach with a random forest attack model).\n",
    "attack = MembershipInferenceBlackBox(art_classifier, attack_model_type='rf')\n",
    "\n",
    "# Prepare membership data:\n",
    "# Label training samples as members (1) and test samples as non-members (0).\n",
    "membership_data = pd.concat([x_train, x_test])\n",
    "membership_labels = np.concatenate([np.ones(len(x_train)), np.zeros(len(x_test))])\n",
    "\n",
    "# Run the attack (the infer method returns membership probabilities).\n",
    "attack_memberships = attack.infer(membership_data.to_numpy())\n",
    "\n",
    "# Threshold the probabilities at 0.5 to decide membership.\n",
    "attack_pred = (attack_memberships > 0.5).astype(int)\n",
    "\n",
    "from sklearn.metrics import accuracy_score\n",
    "attack_accuracy = accuracy_score(membership_labels, attack_pred)\n",
    "print(\"Membership inference attack accuracy:\", attack_accuracy)"
   ]
  }
 ],
 "metadata": {
  "language_info": {
   "name": "python"
  }
 },
 "nbformat": 4,
 "nbformat_minor": 2
}
